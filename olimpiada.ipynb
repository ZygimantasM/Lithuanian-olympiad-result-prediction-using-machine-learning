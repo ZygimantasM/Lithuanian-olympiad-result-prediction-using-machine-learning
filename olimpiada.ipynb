{
 "cells": [
  {
   "cell_type": "markdown",
   "metadata": {},
   "source": [
    "# Training a machine learning model to predict lithuanian educational olympiad results + Data analysis"
   ]
  },
  {
   "cell_type": "markdown",
   "metadata": {},
   "source": [
    "# 1. Data setup"
   ]
  },
  {
   "cell_type": "code",
   "execution_count": 1,
   "metadata": {},
   "outputs": [
    {
     "name": "stderr",
     "output_type": "stream",
     "text": [
      "z:\\projects\\python\\personal\\Lithuanian olympiad result prediction using machine learning\\.venv\\Lib\\site-packages\\tqdm\\auto.py:21: TqdmWarning: IProgress not found. Please update jupyter and ipywidgets. See https://ipywidgets.readthedocs.io/en/stable/user_install.html\n",
      "  from .autonotebook import tqdm as notebook_tqdm\n"
     ]
    }
   ],
   "source": [
    "import numpy as np\n",
    "import pandas as pd\n",
    "import matplotlib.pyplot as plt\n",
    "import seaborn as sns\n",
    "import optuna\n",
    "from xgboost import XGBClassifier "
   ]
  },
  {
   "cell_type": "code",
   "execution_count": 2,
   "metadata": {},
   "outputs": [
    {
     "data": {
      "text/html": [
       "<div>\n",
       "<style scoped>\n",
       "    .dataframe tbody tr th:only-of-type {\n",
       "        vertical-align: middle;\n",
       "    }\n",
       "\n",
       "    .dataframe tbody tr th {\n",
       "        vertical-align: top;\n",
       "    }\n",
       "\n",
       "    .dataframe thead th {\n",
       "        text-align: right;\n",
       "    }\n",
       "</style>\n",
       "<table border=\"1\" class=\"dataframe\">\n",
       "  <thead>\n",
       "    <tr style=\"text-align: right;\">\n",
       "      <th></th>\n",
       "      <th>_type</th>\n",
       "      <th>_id</th>\n",
       "      <th>_revision</th>\n",
       "      <th>_page.next</th>\n",
       "      <th>vda_prime_key</th>\n",
       "      <th>renginys</th>\n",
       "      <th>tipas</th>\n",
       "      <th>laimejimas</th>\n",
       "      <th>vardas</th>\n",
       "      <th>pavarde</th>\n",
       "      <th>mokytojai</th>\n",
       "      <th>komandos_vadovai</th>\n",
       "      <th>svietimo_istaiga</th>\n",
       "      <th>klase</th>\n",
       "      <th>vieta</th>\n",
       "      <th>metai</th>\n",
       "      <th>pilna_data</th>\n",
       "    </tr>\n",
       "  </thead>\n",
       "  <tbody>\n",
       "    <tr>\n",
       "      <th>0</th>\n",
       "      <td>datasets/gov/linesa/ondb/Dalyvis</td>\n",
       "      <td>595ed70b-e4e4-4acb-b002-900cf5da23ad</td>\n",
       "      <td>a261141a-6ebd-4444-ba03-0a964edfe4c0</td>\n",
       "      <td>NaN</td>\n",
       "      <td>007e0bf4708ea6c</td>\n",
       "      <td>Lietuvos Junior Achievement Nacionalinė mokomų...</td>\n",
       "      <td>Lietuvos</td>\n",
       "      <td>I</td>\n",
       "      <td>b36564972ddb3de</td>\n",
       "      <td>3c7c4cb60355d6b</td>\n",
       "      <td>Andželika Rusteikienė</td>\n",
       "      <td>NaN</td>\n",
       "      <td>Vilniaus Gedimino technikos universiteto inžin...</td>\n",
       "      <td>II gimnazinė</td>\n",
       "      <td>Vilnius</td>\n",
       "      <td>2024</td>\n",
       "      <td>2024 m. gegužės 17 d.</td>\n",
       "    </tr>\n",
       "    <tr>\n",
       "      <th>1</th>\n",
       "      <td>datasets/gov/linesa/ondb/Dalyvis</td>\n",
       "      <td>8bc10f92-2478-4f7b-9171-ca029c119115</td>\n",
       "      <td>471b8d65-aa54-4cb2-b71b-16ad25e6e274</td>\n",
       "      <td>NaN</td>\n",
       "      <td>00bd4e380dfe31a</td>\n",
       "      <td>6–oji Lietuvos mokinių etninės kultūros olimpiada</td>\n",
       "      <td>Lietuvos</td>\n",
       "      <td>II</td>\n",
       "      <td>82268f800130f2a</td>\n",
       "      <td>868f173344c9c6f</td>\n",
       "      <td>Agnė Audėjienė, Rūta Vekerotienė</td>\n",
       "      <td>NaN</td>\n",
       "      <td>Molėtų gimnazija</td>\n",
       "      <td>III gimnazinė</td>\n",
       "      <td>Taujėnai, Ukmergės r.</td>\n",
       "      <td>2024</td>\n",
       "      <td>2024 m. balandžio 26–27 d.</td>\n",
       "    </tr>\n",
       "    <tr>\n",
       "      <th>2</th>\n",
       "      <td>datasets/gov/linesa/ondb/Dalyvis</td>\n",
       "      <td>4314f34b-0146-4c12-a592-ac9ca9968cd9</td>\n",
       "      <td>529c78b2-f2be-4039-8832-1e4f33c39ef3</td>\n",
       "      <td>NaN</td>\n",
       "      <td>00e756f66ef74f0</td>\n",
       "      <td>56-asis Lietuvos mokinių jaunųjų filologų konk...</td>\n",
       "      <td>Lietuvos</td>\n",
       "      <td>II</td>\n",
       "      <td>2b158e105b9f9e0</td>\n",
       "      <td>ad6c6fba4d08ef7</td>\n",
       "      <td>Egidijus Miknevičius</td>\n",
       "      <td>NaN</td>\n",
       "      <td>Panevėžio Juozo Balčikonio gimnazija</td>\n",
       "      <td>III gimnazinė</td>\n",
       "      <td>Palanga</td>\n",
       "      <td>2024</td>\n",
       "      <td>2024 m. balandžio 27–28 d.</td>\n",
       "    </tr>\n",
       "    <tr>\n",
       "      <th>3</th>\n",
       "      <td>datasets/gov/linesa/ondb/Dalyvis</td>\n",
       "      <td>4022e66f-6ffd-47dd-a72a-120ae55ab250</td>\n",
       "      <td>5c956c83-fd78-493b-8504-3b3bfc17ebd3</td>\n",
       "      <td>NaN</td>\n",
       "      <td>01b11644795fbdf</td>\n",
       "      <td>71-oji Lietuvos mokinių fizikos olimpiada</td>\n",
       "      <td>Lietuvos</td>\n",
       "      <td>III</td>\n",
       "      <td>9e4a052518d5c83</td>\n",
       "      <td>071f4d27465259c</td>\n",
       "      <td>Violeta Čibinskienė</td>\n",
       "      <td>NaN</td>\n",
       "      <td>Šiaulių universitetinė gimnazija</td>\n",
       "      <td>II gimnazinė</td>\n",
       "      <td>Vilnius</td>\n",
       "      <td>2024</td>\n",
       "      <td>2024 m. kovo 9–11 d.</td>\n",
       "    </tr>\n",
       "    <tr>\n",
       "      <th>4</th>\n",
       "      <td>datasets/gov/linesa/ondb/Dalyvis</td>\n",
       "      <td>c1d99cef-581d-4f36-b5c0-6acff329d421</td>\n",
       "      <td>4496b11b-17b1-48a4-aec9-6fdba27ed016</td>\n",
       "      <td>NaN</td>\n",
       "      <td>01b6c0636873d06</td>\n",
       "      <td>31-oji Lietuvos mokinių rusų (užsienio) kalbos...</td>\n",
       "      <td>Lietuvos</td>\n",
       "      <td>Pagyrimo raštas</td>\n",
       "      <td>8dab03a878759b4</td>\n",
       "      <td>401c969f21f88c8</td>\n",
       "      <td>Irena Veličkienė</td>\n",
       "      <td>NaN</td>\n",
       "      <td>Vilniaus r. Kalvelių „Aušros“ gimnazija</td>\n",
       "      <td>III gimnazinė</td>\n",
       "      <td>Vilnius</td>\n",
       "      <td>2024</td>\n",
       "      <td>2024 m. kovo 28 d.</td>\n",
       "    </tr>\n",
       "  </tbody>\n",
       "</table>\n",
       "</div>"
      ],
      "text/plain": [
       "                              _type                                   _id  \\\n",
       "0  datasets/gov/linesa/ondb/Dalyvis  595ed70b-e4e4-4acb-b002-900cf5da23ad   \n",
       "1  datasets/gov/linesa/ondb/Dalyvis  8bc10f92-2478-4f7b-9171-ca029c119115   \n",
       "2  datasets/gov/linesa/ondb/Dalyvis  4314f34b-0146-4c12-a592-ac9ca9968cd9   \n",
       "3  datasets/gov/linesa/ondb/Dalyvis  4022e66f-6ffd-47dd-a72a-120ae55ab250   \n",
       "4  datasets/gov/linesa/ondb/Dalyvis  c1d99cef-581d-4f36-b5c0-6acff329d421   \n",
       "\n",
       "                              _revision _page.next    vda_prime_key  \\\n",
       "0  a261141a-6ebd-4444-ba03-0a964edfe4c0        NaN  007e0bf4708ea6c   \n",
       "1  471b8d65-aa54-4cb2-b71b-16ad25e6e274        NaN  00bd4e380dfe31a   \n",
       "2  529c78b2-f2be-4039-8832-1e4f33c39ef3        NaN  00e756f66ef74f0   \n",
       "3  5c956c83-fd78-493b-8504-3b3bfc17ebd3        NaN  01b11644795fbdf   \n",
       "4  4496b11b-17b1-48a4-aec9-6fdba27ed016        NaN  01b6c0636873d06   \n",
       "\n",
       "                                            renginys     tipas  \\\n",
       "0  Lietuvos Junior Achievement Nacionalinė mokomų...  Lietuvos   \n",
       "1  6–oji Lietuvos mokinių etninės kultūros olimpiada  Lietuvos   \n",
       "2  56-asis Lietuvos mokinių jaunųjų filologų konk...  Lietuvos   \n",
       "3          71-oji Lietuvos mokinių fizikos olimpiada  Lietuvos   \n",
       "4  31-oji Lietuvos mokinių rusų (užsienio) kalbos...  Lietuvos   \n",
       "\n",
       "        laimejimas           vardas          pavarde  \\\n",
       "0                I  b36564972ddb3de  3c7c4cb60355d6b   \n",
       "1               II  82268f800130f2a  868f173344c9c6f   \n",
       "2               II  2b158e105b9f9e0  ad6c6fba4d08ef7   \n",
       "3              III  9e4a052518d5c83  071f4d27465259c   \n",
       "4  Pagyrimo raštas  8dab03a878759b4  401c969f21f88c8   \n",
       "\n",
       "                          mokytojai komandos_vadovai  \\\n",
       "0             Andželika Rusteikienė              NaN   \n",
       "1  Agnė Audėjienė, Rūta Vekerotienė              NaN   \n",
       "2              Egidijus Miknevičius              NaN   \n",
       "3               Violeta Čibinskienė              NaN   \n",
       "4                  Irena Veličkienė              NaN   \n",
       "\n",
       "                                    svietimo_istaiga          klase  \\\n",
       "0  Vilniaus Gedimino technikos universiteto inžin...   II gimnazinė   \n",
       "1                                   Molėtų gimnazija  III gimnazinė   \n",
       "2               Panevėžio Juozo Balčikonio gimnazija  III gimnazinė   \n",
       "3                   Šiaulių universitetinė gimnazija   II gimnazinė   \n",
       "4          Vilniaus r. Kalvelių „Aušros“ gimnazija  III gimnazinė   \n",
       "\n",
       "                   vieta  metai                  pilna_data  \n",
       "0                Vilnius   2024       2024 m. gegužės 17 d.  \n",
       "1  Taujėnai, Ukmergės r.   2024  2024 m. balandžio 26–27 d.  \n",
       "2                Palanga   2024  2024 m. balandžio 27–28 d.  \n",
       "3                Vilnius   2024        2024 m. kovo 9–11 d.  \n",
       "4                Vilnius   2024          2024 m. kovo 28 d.  "
      ]
     },
     "execution_count": 2,
     "metadata": {},
     "output_type": "execute_result"
    }
   ],
   "source": [
    "data = pd.read_csv(\"olimpiada.csv\")\n",
    "data.head()"
   ]
  },
  {
   "cell_type": "markdown",
   "metadata": {},
   "source": [
    "# 2. Exploratory Data Analysis"
   ]
  },
  {
   "cell_type": "code",
   "execution_count": 3,
   "metadata": {},
   "outputs": [
    {
     "data": {
      "text/plain": [
       "_type               object\n",
       "_id                 object\n",
       "_revision           object\n",
       "_page.next          object\n",
       "vda_prime_key       object\n",
       "renginys            object\n",
       "tipas               object\n",
       "laimejimas          object\n",
       "vardas              object\n",
       "pavarde             object\n",
       "mokytojai           object\n",
       "komandos_vadovai    object\n",
       "svietimo_istaiga    object\n",
       "klase               object\n",
       "vieta               object\n",
       "metai                int64\n",
       "pilna_data          object\n",
       "dtype: object"
      ]
     },
     "execution_count": 3,
     "metadata": {},
     "output_type": "execute_result"
    }
   ],
   "source": [
    "data.dtypes"
   ]
  },
  {
   "cell_type": "code",
   "execution_count": 4,
   "metadata": {},
   "outputs": [
    {
     "data": {
      "text/plain": [
       "_type                 1\n",
       "_id                 804\n",
       "_revision           804\n",
       "_page.next            1\n",
       "vda_prime_key       804\n",
       "renginys             53\n",
       "tipas                 2\n",
       "laimejimas           23\n",
       "vardas              310\n",
       "pavarde             584\n",
       "mokytojai           466\n",
       "komandos_vadovai     15\n",
       "svietimo_istaiga    261\n",
       "klase                17\n",
       "vieta                26\n",
       "metai                 2\n",
       "pilna_data           46\n",
       "dtype: int64"
      ]
     },
     "execution_count": 4,
     "metadata": {},
     "output_type": "execute_result"
    }
   ],
   "source": [
    "data.nunique()"
   ]
  },
  {
   "cell_type": "markdown",
   "metadata": {},
   "source": [
    "Dropping unhelpful columns"
   ]
  },
  {
   "cell_type": "code",
   "execution_count": 5,
   "metadata": {},
   "outputs": [
    {
     "data": {
      "text/plain": [
       "np.int64(0)"
      ]
     },
     "execution_count": 5,
     "metadata": {},
     "output_type": "execute_result"
    }
   ],
   "source": [
    "data.duplicated().sum()"
   ]
  },
  {
   "cell_type": "code",
   "execution_count": 6,
   "metadata": {},
   "outputs": [],
   "source": [
    "data.drop([\"_type\", \"_id\", \"_revision\", \"_page.next\", \"vda_prime_key\", \"vardas\", \"pavarde\"],axis=1, inplace=True)"
   ]
  },
  {
   "cell_type": "code",
   "execution_count": 7,
   "metadata": {},
   "outputs": [
    {
     "data": {
      "text/html": [
       "<div>\n",
       "<style scoped>\n",
       "    .dataframe tbody tr th:only-of-type {\n",
       "        vertical-align: middle;\n",
       "    }\n",
       "\n",
       "    .dataframe tbody tr th {\n",
       "        vertical-align: top;\n",
       "    }\n",
       "\n",
       "    .dataframe thead th {\n",
       "        text-align: right;\n",
       "    }\n",
       "</style>\n",
       "<table border=\"1\" class=\"dataframe\">\n",
       "  <thead>\n",
       "    <tr style=\"text-align: right;\">\n",
       "      <th></th>\n",
       "      <th>renginys</th>\n",
       "      <th>tipas</th>\n",
       "      <th>laimejimas</th>\n",
       "      <th>mokytojai</th>\n",
       "      <th>komandos_vadovai</th>\n",
       "      <th>svietimo_istaiga</th>\n",
       "      <th>klase</th>\n",
       "      <th>vieta</th>\n",
       "      <th>metai</th>\n",
       "      <th>pilna_data</th>\n",
       "    </tr>\n",
       "  </thead>\n",
       "  <tbody>\n",
       "    <tr>\n",
       "      <th>549</th>\n",
       "      <td>35-oji Lietuvos mokinių informatikos olimpiada</td>\n",
       "      <td>Lietuvos</td>\n",
       "      <td>Pagyrimo raštas</td>\n",
       "      <td>Bronius Skūpas</td>\n",
       "      <td>NaN</td>\n",
       "      <td>Vilniaus licėjus</td>\n",
       "      <td>III gimnazinė</td>\n",
       "      <td>Vilnius</td>\n",
       "      <td>2024</td>\n",
       "      <td>2024 m. kovo 1–4 d.</td>\n",
       "    </tr>\n",
       "    <tr>\n",
       "      <th>529</th>\n",
       "      <td>56-asis Lietuvos mokinių jaunųjų filologų konk...</td>\n",
       "      <td>Lietuvos</td>\n",
       "      <td>III</td>\n",
       "      <td>Giedrė Arlauskienė, Aušra Šeštokienė</td>\n",
       "      <td>NaN</td>\n",
       "      <td>Palangos senoji gimnazija</td>\n",
       "      <td>III gimnazinė</td>\n",
       "      <td>Palanga</td>\n",
       "      <td>2024</td>\n",
       "      <td>2024 m. balandžio 27–28 d.</td>\n",
       "    </tr>\n",
       "    <tr>\n",
       "      <th>14</th>\n",
       "      <td>62-oji Lietuvos mokinių chemijos olimpiada</td>\n",
       "      <td>Lietuvos</td>\n",
       "      <td>II</td>\n",
       "      <td>Violeta Laurinaitienė</td>\n",
       "      <td>NaN</td>\n",
       "      <td>Vilniaus Gedimino technikos universiteto inžin...</td>\n",
       "      <td>II gimnazinė</td>\n",
       "      <td>Vilnius</td>\n",
       "      <td>2024</td>\n",
       "      <td>2024 m. vasario 22–24 d.</td>\n",
       "    </tr>\n",
       "    <tr>\n",
       "      <th>223</th>\n",
       "      <td>Lietuvos mokinių meninio skaitymo konkursas</td>\n",
       "      <td>Lietuvos</td>\n",
       "      <td>II</td>\n",
       "      <td>Gintarė Blazgienė</td>\n",
       "      <td>NaN</td>\n",
       "      <td>Marijampolės „Ryto“ pagrindinės mokykla</td>\n",
       "      <td>6</td>\n",
       "      <td>Vilnius</td>\n",
       "      <td>2024</td>\n",
       "      <td>2024 m. balandžio 13 d.</td>\n",
       "    </tr>\n",
       "    <tr>\n",
       "      <th>81</th>\n",
       "      <td>Lietuvos mokinių meninio skaitymo konkursas</td>\n",
       "      <td>Lietuvos</td>\n",
       "      <td>II</td>\n",
       "      <td>Algis Želvys</td>\n",
       "      <td>NaN</td>\n",
       "      <td>Panevėžio Juozo Miltinio gimnazija</td>\n",
       "      <td>III gimnazinė</td>\n",
       "      <td>Vilnius</td>\n",
       "      <td>2024</td>\n",
       "      <td>2024 m. balandžio 13 d.</td>\n",
       "    </tr>\n",
       "  </tbody>\n",
       "</table>\n",
       "</div>"
      ],
      "text/plain": [
       "                                              renginys     tipas  \\\n",
       "549     35-oji Lietuvos mokinių informatikos olimpiada  Lietuvos   \n",
       "529  56-asis Lietuvos mokinių jaunųjų filologų konk...  Lietuvos   \n",
       "14          62-oji Lietuvos mokinių chemijos olimpiada  Lietuvos   \n",
       "223        Lietuvos mokinių meninio skaitymo konkursas  Lietuvos   \n",
       "81         Lietuvos mokinių meninio skaitymo konkursas  Lietuvos   \n",
       "\n",
       "          laimejimas                             mokytojai komandos_vadovai  \\\n",
       "549  Pagyrimo raštas                        Bronius Skūpas              NaN   \n",
       "529              III  Giedrė Arlauskienė, Aušra Šeštokienė              NaN   \n",
       "14                II                 Violeta Laurinaitienė              NaN   \n",
       "223               II                     Gintarė Blazgienė              NaN   \n",
       "81                II                          Algis Želvys              NaN   \n",
       "\n",
       "                                      svietimo_istaiga          klase  \\\n",
       "549                                   Vilniaus licėjus  III gimnazinė   \n",
       "529                          Palangos senoji gimnazija  III gimnazinė   \n",
       "14   Vilniaus Gedimino technikos universiteto inžin...   II gimnazinė   \n",
       "223            Marijampolės „Ryto“ pagrindinės mokykla              6   \n",
       "81                  Panevėžio Juozo Miltinio gimnazija  III gimnazinė   \n",
       "\n",
       "       vieta  metai                  pilna_data  \n",
       "549  Vilnius   2024         2024 m. kovo 1–4 d.  \n",
       "529  Palanga   2024  2024 m. balandžio 27–28 d.  \n",
       "14   Vilnius   2024    2024 m. vasario 22–24 d.  \n",
       "223  Vilnius   2024     2024 m. balandžio 13 d.  \n",
       "81   Vilnius   2024     2024 m. balandžio 13 d.  "
      ]
     },
     "execution_count": 7,
     "metadata": {},
     "output_type": "execute_result"
    }
   ],
   "source": [
    "data.sample(5)"
   ]
  },
  {
   "cell_type": "code",
   "execution_count": null,
   "metadata": {},
   "outputs": [
    {
     "data": {
      "text/plain": [
       "renginys              0\n",
       "tipas                 0\n",
       "laimejimas           42\n",
       "mokytojai             3\n",
       "komandos_vadovai    715\n",
       "svietimo_istaiga      0\n",
       "klase                 0\n",
       "vieta                 0\n",
       "metai                 0\n",
       "pilna_data            0\n",
       "dtype: int64"
      ]
     },
     "execution_count": 8,
     "metadata": {},
     "output_type": "execute_result"
    }
   ],
   "source": [
    "data.isna().sum() # check for missing values"
   ]
  },
  {
   "cell_type": "code",
   "execution_count": 9,
   "metadata": {},
   "outputs": [
    {
     "data": {
      "text/plain": [
       "laimejimas\n",
       "III                                                                                                                            218\n",
       "II                                                                                                                             175\n",
       "Pagyrimo raštas                                                                                                                170\n",
       "I                                                                                                                              125\n",
       "Bronzos medalis                                                                                                                 13\n",
       "II, laureatas                                                                                                                   11\n",
       "Sidabro medalis                                                                                                                 10\n",
       "I, laureatas                                                                                                                    10\n",
       "bronzos medalis                                                                                                                  5\n",
       "III, laureatas                                                                                                                   5\n",
       "sidabro medalis                                                                                                                  4\n",
       "Aukso medalis                                                                                                                    3\n",
       "aukso medalis                                                                                                                    2\n",
       "I , laureatas                                                                                                                    2\n",
       "III vieta                                                                                                                        1\n",
       "I vieta                                                                                                                          1\n",
       "J. Baranovos vardo dipl.                                                                                                         1\n",
       "Aukso medalis, specialusis prizas už II kategorijos geriausią originalią kompoziciją.                                            1\n",
       "Grand Prix                                                                                                                       1\n",
       "II, publikos simpatijos                                                                                                          1\n",
       "Bronzo medalis                                                                                                                   1\n",
       "II vieta                                                                                                                         1\n",
       "Aukso medalis, specialieji prizai už geriausią I kategorijos originalią kompoziciją bei skaitymo iš lapo užduoties atlikimą      1\n",
       "Name: count, dtype: int64"
      ]
     },
     "execution_count": 9,
     "metadata": {},
     "output_type": "execute_result"
    }
   ],
   "source": [
    "data[\"laimejimas\"].value_counts()"
   ]
  },
  {
   "cell_type": "markdown",
   "metadata": {},
   "source": [
    "# 3. Feature Engineering"
   ]
  },
  {
   "cell_type": "markdown",
   "metadata": {},
   "source": [
    "mapping the target column 'laimejimas' to only include 3 places I, II and III"
   ]
  },
  {
   "cell_type": "code",
   "execution_count": 10,
   "metadata": {},
   "outputs": [
    {
     "data": {
      "text/plain": [
       "array(['I', 'II', 'III', 'Pagyrimo raštas', 'Sidabro medalis',\n",
       "       'sidabro medalis', 'aukso medalis', 'II, laureatas',\n",
       "       'Aukso medalis', nan, 'I, laureatas', 'bronzos medalis',\n",
       "       'Bronzos medalis', 'III vieta', 'III, laureatas', 'I vieta',\n",
       "       'I , laureatas', 'J. Baranovos vardo dipl.',\n",
       "       'Aukso medalis, specialusis prizas už II kategorijos geriausią originalią kompoziciją.',\n",
       "       'Grand Prix', 'II, publikos simpatijos', 'Bronzo medalis',\n",
       "       'II vieta',\n",
       "       'Aukso medalis, specialieji prizai už geriausią I kategorijos originalią kompoziciją bei skaitymo iš lapo užduoties atlikimą'],\n",
       "      dtype=object)"
      ]
     },
     "execution_count": 10,
     "metadata": {},
     "output_type": "execute_result"
    }
   ],
   "source": [
    "data[\"laimejimas\"].unique()"
   ]
  },
  {
   "cell_type": "code",
   "execution_count": 11,
   "metadata": {},
   "outputs": [],
   "source": [
    "mapping = { 'I': 0, 'I vieta': 0, 'I, laureatas': 0, 'I , laureatas': 0, 'aukso medalis': 0, 'Aukso medalis': 0, 'Aukso medalis, specialusis prizas už II kategorijos geriausią originalią kompoziciją.': 0, 'Aukso medalis, specialieji prizai už geriausią I kategorijos originalią kompoziciją bei skaitymo iš lapo užduoties atlikimą': 0, 'Grand Prix': np.nan, 'II': 1, 'II vieta': 1, 'II, laureatas': 1, 'II, publikos simpatijos': 2, 'Sidabro medalis': 1, 'sidabro medalis': 1, 'III': 2, 'III vieta': 2, 'III, laureatas': 2, 'bronzos medalis': 2, 'Bronzos medalis': 2, 'Bronzo medalis': 2, 'Pagyrimo raštas': np.nan, 'J. Baranovos vardo dipl.': np.nan }"
   ]
  },
  {
   "cell_type": "code",
   "execution_count": 12,
   "metadata": {},
   "outputs": [
    {
     "data": {
      "text/html": [
       "<div>\n",
       "<style scoped>\n",
       "    .dataframe tbody tr th:only-of-type {\n",
       "        vertical-align: middle;\n",
       "    }\n",
       "\n",
       "    .dataframe tbody tr th {\n",
       "        vertical-align: top;\n",
       "    }\n",
       "\n",
       "    .dataframe thead th {\n",
       "        text-align: right;\n",
       "    }\n",
       "</style>\n",
       "<table border=\"1\" class=\"dataframe\">\n",
       "  <thead>\n",
       "    <tr style=\"text-align: right;\">\n",
       "      <th></th>\n",
       "      <th>renginys</th>\n",
       "      <th>tipas</th>\n",
       "      <th>laimejimas</th>\n",
       "      <th>mokytojai</th>\n",
       "      <th>komandos_vadovai</th>\n",
       "      <th>svietimo_istaiga</th>\n",
       "      <th>klase</th>\n",
       "      <th>vieta</th>\n",
       "      <th>metai</th>\n",
       "      <th>pilna_data</th>\n",
       "    </tr>\n",
       "  </thead>\n",
       "  <tbody>\n",
       "    <tr>\n",
       "      <th>0</th>\n",
       "      <td>Lietuvos Junior Achievement Nacionalinė mokomų...</td>\n",
       "      <td>Lietuvos</td>\n",
       "      <td>0.0</td>\n",
       "      <td>Andželika Rusteikienė</td>\n",
       "      <td>NaN</td>\n",
       "      <td>Vilniaus Gedimino technikos universiteto inžin...</td>\n",
       "      <td>II gimnazinė</td>\n",
       "      <td>Vilnius</td>\n",
       "      <td>2024</td>\n",
       "      <td>2024 m. gegužės 17 d.</td>\n",
       "    </tr>\n",
       "    <tr>\n",
       "      <th>1</th>\n",
       "      <td>6–oji Lietuvos mokinių etninės kultūros olimpiada</td>\n",
       "      <td>Lietuvos</td>\n",
       "      <td>1.0</td>\n",
       "      <td>Agnė Audėjienė, Rūta Vekerotienė</td>\n",
       "      <td>NaN</td>\n",
       "      <td>Molėtų gimnazija</td>\n",
       "      <td>III gimnazinė</td>\n",
       "      <td>Taujėnai, Ukmergės r.</td>\n",
       "      <td>2024</td>\n",
       "      <td>2024 m. balandžio 26–27 d.</td>\n",
       "    </tr>\n",
       "    <tr>\n",
       "      <th>2</th>\n",
       "      <td>56-asis Lietuvos mokinių jaunųjų filologų konk...</td>\n",
       "      <td>Lietuvos</td>\n",
       "      <td>1.0</td>\n",
       "      <td>Egidijus Miknevičius</td>\n",
       "      <td>NaN</td>\n",
       "      <td>Panevėžio Juozo Balčikonio gimnazija</td>\n",
       "      <td>III gimnazinė</td>\n",
       "      <td>Palanga</td>\n",
       "      <td>2024</td>\n",
       "      <td>2024 m. balandžio 27–28 d.</td>\n",
       "    </tr>\n",
       "  </tbody>\n",
       "</table>\n",
       "</div>"
      ],
      "text/plain": [
       "                                            renginys     tipas  laimejimas  \\\n",
       "0  Lietuvos Junior Achievement Nacionalinė mokomų...  Lietuvos         0.0   \n",
       "1  6–oji Lietuvos mokinių etninės kultūros olimpiada  Lietuvos         1.0   \n",
       "2  56-asis Lietuvos mokinių jaunųjų filologų konk...  Lietuvos         1.0   \n",
       "\n",
       "                          mokytojai komandos_vadovai  \\\n",
       "0             Andželika Rusteikienė              NaN   \n",
       "1  Agnė Audėjienė, Rūta Vekerotienė              NaN   \n",
       "2              Egidijus Miknevičius              NaN   \n",
       "\n",
       "                                    svietimo_istaiga          klase  \\\n",
       "0  Vilniaus Gedimino technikos universiteto inžin...   II gimnazinė   \n",
       "1                                   Molėtų gimnazija  III gimnazinė   \n",
       "2               Panevėžio Juozo Balčikonio gimnazija  III gimnazinė   \n",
       "\n",
       "                   vieta  metai                  pilna_data  \n",
       "0                Vilnius   2024       2024 m. gegužės 17 d.  \n",
       "1  Taujėnai, Ukmergės r.   2024  2024 m. balandžio 26–27 d.  \n",
       "2                Palanga   2024  2024 m. balandžio 27–28 d.  "
      ]
     },
     "execution_count": 12,
     "metadata": {},
     "output_type": "execute_result"
    }
   ],
   "source": [
    "data['laimejimas'] = data['laimejimas'].map(mapping)\n",
    "data.head(3)"
   ]
  },
  {
   "cell_type": "code",
   "execution_count": 13,
   "metadata": {},
   "outputs": [
    {
     "data": {
      "text/plain": [
       "Text(0, 0.5, 'Švietimo įstaiga')"
      ]
     },
     "execution_count": 13,
     "metadata": {},
     "output_type": "execute_result"
    },
    {
     "data": {
      "image/png": "[encoded data removed]",
      "text/plain": [
       "<Figure size 1000x500 with 1 Axes>"
      ]
     },
     "metadata": {},
     "output_type": "display_data"
    }
   ],
   "source": [
    "data.groupby('svietimo_istaiga')['laimejimas'].value_counts().unstack().sort_values(by=0, ascending=False).head(10).plot(kind='barh', stacked=True, figsize=(10, 5), color=['gold', 'silver', 'brown'])\n",
    "\n",
    "plt.legend(title='Prizinės vietos' , labels=['I', 'II', 'III'])\n",
    "plt.xlabel('Prizinių vietų kiekis')\n",
    "plt.title('Top 10 švietimo įstaigų pagal prizinių vietų kiekį')\n",
    "plt.ylabel('Švietimo įstaiga')"
   ]
  },
  {
   "cell_type": "code",
   "execution_count": 14,
   "metadata": {},
   "outputs": [
    {
     "data": {
      "text/plain": [
       "Text(0, 0.5, 'Mokytojas')"
      ]
     },
     "execution_count": 14,
     "metadata": {},
     "output_type": "execute_result"
    },
    {
     "data": {
      "image/png": "[encoded data removed]",
      "text/plain": [
       "<Figure size 1000x500 with 1 Axes>"
      ]
     },
     "metadata": {},
     "output_type": "display_data"
    }
   ],
   "source": [
    "data.groupby('mokytojai')['laimejimas'].value_counts().unstack().sort_values(by=0, ascending=False).head(10).plot(kind='barh', stacked=True, figsize=(10, 5), color=['gold', 'silver', 'brown'])\n",
    "\n",
    "plt.legend(title='Prizinės vietos' , labels=['I', 'II', 'III'])\n",
    "plt.xlabel('Prizinių vietų kiekis')\n",
    "plt.title('Top 10 mokytojų pagal mokinių prizinių vietų kiekį')\n",
    "plt.ylabel('Mokytojas')"
   ]
  },
  {
   "cell_type": "code",
   "execution_count": 15,
   "metadata": {},
   "outputs": [
    {
     "data": {
      "text/plain": [
       "laimejimas\n",
       "2.0    244\n",
       "1.0    201\n",
       "0.0    145\n",
       "Name: count, dtype: int64"
      ]
     },
     "execution_count": 15,
     "metadata": {},
     "output_type": "execute_result"
    }
   ],
   "source": [
    "data.laimejimas.value_counts()"
   ]
  },
  {
   "cell_type": "markdown",
   "metadata": {},
   "source": [
    "Missing 'mokytojai' values are replaced with 'Be mokytojo'"
   ]
  },
  {
   "cell_type": "code",
   "execution_count": 16,
   "metadata": {},
   "outputs": [],
   "source": [
    "data.loc[data[\"mokytojai\"].isna(), \"mokytojai\"] = \"Be mokytojo\""
   ]
  },
  {
   "cell_type": "markdown",
   "metadata": {},
   "source": [
    "80% of 'komandos_vadovai' values are missing, so lets replace the columns with the amount of team leaders for each row with most rows being 0."
   ]
  },
  {
   "cell_type": "code",
   "execution_count": 17,
   "metadata": {},
   "outputs": [
    {
     "data": {
      "text/plain": [
       "0                        0\n",
       "1                        0\n",
       "2                        0\n",
       "3                        0\n",
       "4                        0\n",
       "              ...         \n",
       "799                      0\n",
       "800                      0\n",
       "801    Danutė Stankaitienė\n",
       "802                      0\n",
       "803                      0\n",
       "Name: komandos_vadovai, Length: 804, dtype: object"
      ]
     },
     "execution_count": 17,
     "metadata": {},
     "output_type": "execute_result"
    }
   ],
   "source": [
    "data[\"komandos_vadovai\"].fillna(0)"
   ]
  },
  {
   "cell_type": "code",
   "execution_count": 18,
   "metadata": {},
   "outputs": [
    {
     "data": {
      "text/plain": [
       "[1, 1]"
      ]
     },
     "execution_count": 18,
     "metadata": {},
     "output_type": "execute_result"
    }
   ],
   "source": [
    "vadovu_skc = []\n",
    "for val in data[\"komandos_vadovai\"]:\n",
    "    if val == 0:\n",
    "        vadovu_skc.append(0)\n",
    "    else:\n",
    "        splits = str(val).split(sep=\",\")\n",
    "        vadovu_skc.append(len(splits))\n",
    "\n",
    "vadovu_skc[:2]"
   ]
  },
  {
   "cell_type": "code",
   "execution_count": 19,
   "metadata": {},
   "outputs": [
    {
     "data": {
      "text/html": [
       "<div>\n",
       "<style scoped>\n",
       "    .dataframe tbody tr th:only-of-type {\n",
       "        vertical-align: middle;\n",
       "    }\n",
       "\n",
       "    .dataframe tbody tr th {\n",
       "        vertical-align: top;\n",
       "    }\n",
       "\n",
       "    .dataframe thead th {\n",
       "        text-align: right;\n",
       "    }\n",
       "</style>\n",
       "<table border=\"1\" class=\"dataframe\">\n",
       "  <thead>\n",
       "    <tr style=\"text-align: right;\">\n",
       "      <th></th>\n",
       "      <th>renginys</th>\n",
       "      <th>tipas</th>\n",
       "      <th>laimejimas</th>\n",
       "      <th>mokytojai</th>\n",
       "      <th>komandos_vadovai</th>\n",
       "      <th>svietimo_istaiga</th>\n",
       "      <th>klase</th>\n",
       "      <th>vieta</th>\n",
       "      <th>metai</th>\n",
       "      <th>pilna_data</th>\n",
       "    </tr>\n",
       "  </thead>\n",
       "  <tbody>\n",
       "    <tr>\n",
       "      <th>0</th>\n",
       "      <td>Lietuvos Junior Achievement Nacionalinė mokomų...</td>\n",
       "      <td>Lietuvos</td>\n",
       "      <td>0.0</td>\n",
       "      <td>Andželika Rusteikienė</td>\n",
       "      <td>1</td>\n",
       "      <td>Vilniaus Gedimino technikos universiteto inžin...</td>\n",
       "      <td>II gimnazinė</td>\n",
       "      <td>Vilnius</td>\n",
       "      <td>2024</td>\n",
       "      <td>2024 m. gegužės 17 d.</td>\n",
       "    </tr>\n",
       "    <tr>\n",
       "      <th>1</th>\n",
       "      <td>6–oji Lietuvos mokinių etninės kultūros olimpiada</td>\n",
       "      <td>Lietuvos</td>\n",
       "      <td>1.0</td>\n",
       "      <td>Agnė Audėjienė, Rūta Vekerotienė</td>\n",
       "      <td>1</td>\n",
       "      <td>Molėtų gimnazija</td>\n",
       "      <td>III gimnazinė</td>\n",
       "      <td>Taujėnai, Ukmergės r.</td>\n",
       "      <td>2024</td>\n",
       "      <td>2024 m. balandžio 26–27 d.</td>\n",
       "    </tr>\n",
       "    <tr>\n",
       "      <th>2</th>\n",
       "      <td>56-asis Lietuvos mokinių jaunųjų filologų konk...</td>\n",
       "      <td>Lietuvos</td>\n",
       "      <td>1.0</td>\n",
       "      <td>Egidijus Miknevičius</td>\n",
       "      <td>1</td>\n",
       "      <td>Panevėžio Juozo Balčikonio gimnazija</td>\n",
       "      <td>III gimnazinė</td>\n",
       "      <td>Palanga</td>\n",
       "      <td>2024</td>\n",
       "      <td>2024 m. balandžio 27–28 d.</td>\n",
       "    </tr>\n",
       "  </tbody>\n",
       "</table>\n",
       "</div>"
      ],
      "text/plain": [
       "                                            renginys     tipas  laimejimas  \\\n",
       "0  Lietuvos Junior Achievement Nacionalinė mokomų...  Lietuvos         0.0   \n",
       "1  6–oji Lietuvos mokinių etninės kultūros olimpiada  Lietuvos         1.0   \n",
       "2  56-asis Lietuvos mokinių jaunųjų filologų konk...  Lietuvos         1.0   \n",
       "\n",
       "                          mokytojai  komandos_vadovai  \\\n",
       "0             Andželika Rusteikienė                 1   \n",
       "1  Agnė Audėjienė, Rūta Vekerotienė                 1   \n",
       "2              Egidijus Miknevičius                 1   \n",
       "\n",
       "                                    svietimo_istaiga          klase  \\\n",
       "0  Vilniaus Gedimino technikos universiteto inžin...   II gimnazinė   \n",
       "1                                   Molėtų gimnazija  III gimnazinė   \n",
       "2               Panevėžio Juozo Balčikonio gimnazija  III gimnazinė   \n",
       "\n",
       "                   vieta  metai                  pilna_data  \n",
       "0                Vilnius   2024       2024 m. gegužės 17 d.  \n",
       "1  Taujėnai, Ukmergės r.   2024  2024 m. balandžio 26–27 d.  \n",
       "2                Palanga   2024  2024 m. balandžio 27–28 d.  "
      ]
     },
     "execution_count": 19,
     "metadata": {},
     "output_type": "execute_result"
    }
   ],
   "source": [
    "data[\"komandos_vadovai\"] = vadovu_skc\n",
    "data.head(3)"
   ]
  },
  {
   "cell_type": "code",
   "execution_count": 20,
   "metadata": {},
   "outputs": [
    {
     "data": {
      "text/plain": [
       "renginys              0\n",
       "tipas                 0\n",
       "laimejimas          214\n",
       "mokytojai             0\n",
       "komandos_vadovai      0\n",
       "svietimo_istaiga      0\n",
       "klase                 0\n",
       "vieta                 0\n",
       "metai                 0\n",
       "pilna_data            0\n",
       "dtype: int64"
      ]
     },
     "execution_count": 20,
     "metadata": {},
     "output_type": "execute_result"
    }
   ],
   "source": [
    "data.isna().sum()"
   ]
  },
  {
   "cell_type": "markdown",
   "metadata": {},
   "source": [
    "Dropping date columns as I don't want to use them as a predictor"
   ]
  },
  {
   "cell_type": "code",
   "execution_count": 21,
   "metadata": {},
   "outputs": [],
   "source": [
    "data.drop([\"pilna_data\", \"metai\"], axis=1, inplace=True)"
   ]
  },
  {
   "cell_type": "code",
   "execution_count": 22,
   "metadata": {},
   "outputs": [
    {
     "data": {
      "text/plain": [
       "590"
      ]
     },
     "execution_count": 22,
     "metadata": {},
     "output_type": "execute_result"
    }
   ],
   "source": [
    "data.dropna(inplace=True)\n",
    "len(data)"
   ]
  },
  {
   "cell_type": "code",
   "execution_count": 23,
   "metadata": {},
   "outputs": [
    {
     "data": {
      "text/plain": [
       "array(['II gimnazinė', 'III gimnazinė', 'I gimnazinė', 'IV gimnazinė',\n",
       "       '6–8', '7', '8', 'III–IV gimnazinė', '6', 'I–IV gimnazinė',\n",
       "       '8 klasė', '3', '10', '5–6', '4', '5', '9'], dtype=object)"
      ]
     },
     "execution_count": 23,
     "metadata": {},
     "output_type": "execute_result"
    }
   ],
   "source": [
    "data[\"klase\"].unique()"
   ]
  },
  {
   "cell_type": "markdown",
   "metadata": {},
   "source": [
    "There are too many values in this categorical feature and we can turn it into numerical by mapping most values to a certain number"
   ]
  },
  {
   "cell_type": "code",
   "execution_count": 24,
   "metadata": {},
   "outputs": [
    {
     "data": {
      "text/html": [
       "<div>\n",
       "<style scoped>\n",
       "    .dataframe tbody tr th:only-of-type {\n",
       "        vertical-align: middle;\n",
       "    }\n",
       "\n",
       "    .dataframe tbody tr th {\n",
       "        vertical-align: top;\n",
       "    }\n",
       "\n",
       "    .dataframe thead th {\n",
       "        text-align: right;\n",
       "    }\n",
       "</style>\n",
       "<table border=\"1\" class=\"dataframe\">\n",
       "  <thead>\n",
       "    <tr style=\"text-align: right;\">\n",
       "      <th></th>\n",
       "      <th>renginys</th>\n",
       "      <th>tipas</th>\n",
       "      <th>laimejimas</th>\n",
       "      <th>mokytojai</th>\n",
       "      <th>komandos_vadovai</th>\n",
       "      <th>svietimo_istaiga</th>\n",
       "      <th>klase</th>\n",
       "      <th>vieta</th>\n",
       "    </tr>\n",
       "  </thead>\n",
       "  <tbody>\n",
       "    <tr>\n",
       "      <th>0</th>\n",
       "      <td>Lietuvos Junior Achievement Nacionalinė mokomų...</td>\n",
       "      <td>Lietuvos</td>\n",
       "      <td>0.0</td>\n",
       "      <td>Andželika Rusteikienė</td>\n",
       "      <td>1</td>\n",
       "      <td>Vilniaus Gedimino technikos universiteto inžin...</td>\n",
       "      <td>10</td>\n",
       "      <td>Vilnius</td>\n",
       "    </tr>\n",
       "    <tr>\n",
       "      <th>1</th>\n",
       "      <td>6–oji Lietuvos mokinių etninės kultūros olimpiada</td>\n",
       "      <td>Lietuvos</td>\n",
       "      <td>1.0</td>\n",
       "      <td>Agnė Audėjienė, Rūta Vekerotienė</td>\n",
       "      <td>1</td>\n",
       "      <td>Molėtų gimnazija</td>\n",
       "      <td>11</td>\n",
       "      <td>Taujėnai, Ukmergės r.</td>\n",
       "    </tr>\n",
       "    <tr>\n",
       "      <th>2</th>\n",
       "      <td>56-asis Lietuvos mokinių jaunųjų filologų konk...</td>\n",
       "      <td>Lietuvos</td>\n",
       "      <td>1.0</td>\n",
       "      <td>Egidijus Miknevičius</td>\n",
       "      <td>1</td>\n",
       "      <td>Panevėžio Juozo Balčikonio gimnazija</td>\n",
       "      <td>11</td>\n",
       "      <td>Palanga</td>\n",
       "    </tr>\n",
       "  </tbody>\n",
       "</table>\n",
       "</div>"
      ],
      "text/plain": [
       "                                            renginys     tipas  laimejimas  \\\n",
       "0  Lietuvos Junior Achievement Nacionalinė mokomų...  Lietuvos         0.0   \n",
       "1  6–oji Lietuvos mokinių etninės kultūros olimpiada  Lietuvos         1.0   \n",
       "2  56-asis Lietuvos mokinių jaunųjų filologų konk...  Lietuvos         1.0   \n",
       "\n",
       "                          mokytojai  komandos_vadovai  \\\n",
       "0             Andželika Rusteikienė                 1   \n",
       "1  Agnė Audėjienė, Rūta Vekerotienė                 1   \n",
       "2              Egidijus Miknevičius                 1   \n",
       "\n",
       "                                    svietimo_istaiga  klase  \\\n",
       "0  Vilniaus Gedimino technikos universiteto inžin...     10   \n",
       "1                                   Molėtų gimnazija     11   \n",
       "2               Panevėžio Juozo Balčikonio gimnazija     11   \n",
       "\n",
       "                   vieta  \n",
       "0                Vilnius  \n",
       "1  Taujėnai, Ukmergės r.  \n",
       "2                Palanga  "
      ]
     },
     "execution_count": 24,
     "metadata": {},
     "output_type": "execute_result"
    }
   ],
   "source": [
    "class_dict = { 'II gimnazinė': 10, 'III gimnazinė': 11, 'I gimnazinė': 9, 'IV gimnazinė': 12, '6–8': 8, '7': 7, '8': 8, 'III–IV gimnazinė': 12, '6': 6, 'I–IV gimnazinė': 12, '8 klasė': 8, '3': 3, '10': 10, '5–6': 6, '4': 4, '5': 5, '9': 9}\n",
    "\n",
    "data['klase'] = data['klase'].map(class_dict)\n",
    "data.head(3)"
   ]
  },
  {
   "cell_type": "markdown",
   "metadata": {},
   "source": [
    "Encoding the categorical feature 'tipas' into numerical"
   ]
  },
  {
   "cell_type": "code",
   "execution_count": 25,
   "metadata": {},
   "outputs": [],
   "source": [
    "tipas_mapping = {'Lietuvos': 0,\n",
    "                 'Tarptautinis': 1}\n",
    "\n",
    "data[\"tipas\"] = data[\"tipas\"].map(tipas_mapping)"
   ]
  },
  {
   "cell_type": "code",
   "execution_count": 26,
   "metadata": {},
   "outputs": [
    {
     "data": {
      "text/plain": [
       "renginys             49\n",
       "tipas                 2\n",
       "laimejimas            3\n",
       "mokytojai           376\n",
       "komandos_vadovai      3\n",
       "svietimo_istaiga    215\n",
       "klase                10\n",
       "vieta                22\n",
       "dtype: int64"
      ]
     },
     "execution_count": 26,
     "metadata": {},
     "output_type": "execute_result"
    }
   ],
   "source": [
    "data.nunique()"
   ]
  },
  {
   "cell_type": "markdown",
   "metadata": {},
   "source": [
    "Setting up train/test splits"
   ]
  },
  {
   "cell_type": "code",
   "execution_count": 27,
   "metadata": {},
   "outputs": [],
   "source": [
    "from sklearn.model_selection import train_test_split\n",
    "\n",
    "X, y = data.drop(\"laimejimas\", axis=1), data[\"laimejimas\"]\n",
    "y = y.astype(int)\n",
    "\n",
    "X_train, X_test, y_train, y_test = train_test_split(X, y, test_size=0.2, random_state=42)"
   ]
  },
  {
   "cell_type": "markdown",
   "metadata": {},
   "source": [
    "Target encoding was chosen for these features because they are not ordinal, and have way too many distinct values to be one-hot-encoded, especially seeing how we only have 600 rows in our dataset"
   ]
  },
  {
   "cell_type": "code",
   "execution_count": 28,
   "metadata": {},
   "outputs": [],
   "source": [
    "target_cols = [\"renginys\", \"mokytojai\", \"svietimo_istaiga\", \"vieta\"]\n",
    "\n",
    "from category_encoders import TargetEncoder\n",
    "\n",
    "te = TargetEncoder(cols=target_cols)\n",
    "X_train[target_cols] = te.fit_transform(X_train[target_cols], y_train)\n",
    "X_test[target_cols] = te.transform(X_test[target_cols])\n",
    "\n",
    "X[target_cols] = te.fit_transform(X[target_cols], y)\n"
   ]
  },
  {
   "cell_type": "code",
   "execution_count": 29,
   "metadata": {},
   "outputs": [
    {
     "data": {
      "image/png": "[encoded data removed]",
      "text/plain": [
       "<Figure size 640x480 with 2 Axes>"
      ]
     },
     "metadata": {},
     "output_type": "display_data"
    }
   ],
   "source": [
    "# concat X and y\n",
    "corr_df = pd.concat([X, y], axis=1)\n",
    "\n",
    "sns.heatmap(abs(corr_df.corr()), annot=True, cmap='coolwarm', fmt=\".2f\", linewidths=0.5)\n",
    "plt.title(\"Koreliacijos matrica\")\n",
    "plt.xticks(rotation=45, ha='right')\n",
    "plt.show()"
   ]
  },
  {
   "cell_type": "markdown",
   "metadata": {},
   "source": [
    "Scaling our features before feeding to a model, although it's unnecessary since the model we use is XGBoostClassifier which is an ensemble of decision trees which don't get affected by the features varying scales, although it's still good practice"
   ]
  },
  {
   "cell_type": "code",
   "execution_count": 30,
   "metadata": {},
   "outputs": [],
   "source": [
    "from sklearn.preprocessing import StandardScaler\n",
    "\n",
    "scaler = StandardScaler()\n",
    "X_train_proc = scaler.fit_transform(X_train)\n",
    "X_test_proc = scaler.transform(X_test)\n",
    "X_proc = scaler.fit_transform(X)"
   ]
  },
  {
   "cell_type": "markdown",
   "metadata": {},
   "source": [
    "# 4. Modelling"
   ]
  },
  {
   "cell_type": "markdown",
   "metadata": {},
   "source": [
    "Let's train a baseline model to compare our final model score to:"
   ]
  },
  {
   "cell_type": "code",
   "execution_count": 31,
   "metadata": {},
   "outputs": [
    {
     "name": "stdout",
     "output_type": "stream",
     "text": [
      "Mean cross-validation score: 0.4135593220338983\n"
     ]
    }
   ],
   "source": [
    "from sklearn.dummy import DummyClassifier\n",
    "from sklearn.model_selection import cross_val_score\n",
    "\n",
    "dummy_clf = DummyClassifier(strategy='most_frequent')\n",
    "\n",
    "scores = cross_val_score(dummy_clf, X_proc, y, cv=5, scoring='accuracy')\n",
    "\n",
    "print(f'Mean cross-validation score: {scores.mean()}')"
   ]
  },
  {
   "cell_type": "markdown",
   "metadata": {},
   "source": [
    "Initial cross validated score is looking good: 77% accuracy"
   ]
  },
  {
   "cell_type": "code",
   "execution_count": 32,
   "metadata": {},
   "outputs": [
    {
     "name": "stdout",
     "output_type": "stream",
     "text": [
      "0.7728813559322034\n"
     ]
    }
   ],
   "source": [
    "from xgboost import XGBClassifier\n",
    "import sklearn\n",
    "\n",
    "xgb_model = XGBClassifier()\n",
    "\n",
    "cv_scores = cross_val_score(xgb_model, X_proc, y, cv=5)\n",
    "\n",
    "print(cv_scores.mean())"
   ]
  },
  {
   "cell_type": "markdown",
   "metadata": {},
   "source": [
    "Unfortunately, when we dont use cross validation the score is really bad, although my theory is that there is way too little data ~600 rows, and taking away 20% for a test split affects it really badly"
   ]
  },
  {
   "cell_type": "code",
   "execution_count": 33,
   "metadata": {},
   "outputs": [
    {
     "name": "stdout",
     "output_type": "stream",
     "text": [
      "0.4152542372881356\n"
     ]
    }
   ],
   "source": [
    "from sklearn.metrics import accuracy_score\n",
    "from sklearn.model_selection import cross_val_predict\n",
    "\n",
    "xgb_model = XGBClassifier()\n",
    "xgb_model.fit(X_train_proc, y_train)\n",
    "\n",
    "y_preds = xgb_model.predict(X_test_proc)\n",
    "\n",
    "print(accuracy_score(y_test, y_preds))"
   ]
  },
  {
   "cell_type": "code",
   "execution_count": 34,
   "metadata": {},
   "outputs": [],
   "source": [
    "X_trainval_proc = X_train_proc\n",
    "y_trainval = y_train"
   ]
  },
  {
   "cell_type": "markdown",
   "metadata": {},
   "source": [
    "Creating a validation split for hyperparameter tuning"
   ]
  },
  {
   "cell_type": "code",
   "execution_count": 35,
   "metadata": {},
   "outputs": [],
   "source": [
    "X_train_proc, X_val_proc, y_train, y_val = train_test_split(X_trainval_proc, y_trainval, test_size=0.2, random_state=42)"
   ]
  },
  {
   "cell_type": "markdown",
   "metadata": {},
   "source": [
    "Using optuna to search for the best parameters"
   ]
  },
  {
   "cell_type": "code",
   "execution_count": 36,
   "metadata": {},
   "outputs": [],
   "source": [
    "import optuna\n",
    "from xgboost import XGBClassifier\n",
    "optuna.logging.set_verbosity(optuna.logging.WARNING)\n",
    "\n",
    "def objective(trial):\n",
    "\n",
    "    param_grid = {\n",
    "        'objective': 'multi:softmax',\n",
    "        'learning_rate': 0.3,\n",
    "        'tree_method':  trial.suggest_categorical('tree_method', ['approx', 'hist']),\n",
    "        'max_depth': trial.suggest_int('max_depth', 3, 12),\n",
    "        'min_child_weight': trial.suggest_int('min_child_weight', 1, 250),\n",
    "        'subsample': trial.suggest_float('subsample', 0.1, 1.0),\n",
    "        'reg_lambda': trial.suggest_float('reg_lambda', 0.001, 25, log=True),\n",
    "        'n_estimators': 100000,\n",
    "        'early_stopping_rounds': 25\n",
    "    }\n",
    "\n",
    "    clf = XGBClassifier(**param_grid)\n",
    "    clf.fit(X_train_proc, y_train, eval_set=[(X_val_proc, y_val)], verbose=0)\n",
    "    y_pred = clf.predict(X_val_proc)\n",
    "\n",
    "    acc = accuracy_score(y_val, y_pred)\n",
    "    return acc"
   ]
  },
  {
   "cell_type": "markdown",
   "metadata": {},
   "source": [
    "The search goes on for 300 seconds"
   ]
  },
  {
   "cell_type": "code",
   "execution_count": 38,
   "metadata": {},
   "outputs": [],
   "source": [
    "import time\n",
    "\n",
    "\n",
    "study = optuna.create_study(direction='maximize')\n",
    "\n",
    "tic = time.time()\n",
    "while time.time() - tic < 300:\n",
    "    study.optimize(objective, n_trials=1)"
   ]
  },
  {
   "cell_type": "markdown",
   "metadata": {},
   "source": [
    "These are the resulting best parameters"
   ]
  },
  {
   "cell_type": "code",
   "execution_count": 39,
   "metadata": {},
   "outputs": [
    {
     "data": {
      "text/plain": [
       "{'tree_method': 'approx',\n",
       " 'max_depth': 7,\n",
       " 'min_child_weight': 22,\n",
       " 'subsample': 0.4090840375886399,\n",
       " 'reg_lambda': 1.0587858532313816}"
      ]
     },
     "execution_count": 39,
     "metadata": {},
     "output_type": "execute_result"
    }
   ],
   "source": [
    "study.best_params"
   ]
  },
  {
   "cell_type": "markdown",
   "metadata": {},
   "source": [
    "Now that we have the ideal tree parameters which we found relatively quickly due to a high learning rate, now we set the learning rate very low and use early stopping to find the best amount n_estimators for our model"
   ]
  },
  {
   "cell_type": "code",
   "execution_count": 40,
   "metadata": {},
   "outputs": [
    {
     "data": {
      "text/html": [
       "<style>#sk-container-id-1 {\n",
       "  /* Definition of color scheme common for light and dark mode */\n",
       "  --sklearn-color-text: black;\n",
       "  --sklearn-color-line: gray;\n",
       "  /* Definition of color scheme for unfitted estimators */\n",
       "  --sklearn-color-unfitted-level-0: #fff5e6;\n",
       "  --sklearn-color-unfitted-level-1: #f6e4d2;\n",
       "  --sklearn-color-unfitted-level-2: #ffe0b3;\n",
       "  --sklearn-color-unfitted-level-3: chocolate;\n",
       "  /* Definition of color scheme for fitted estimators */\n",
       "  --sklearn-color-fitted-level-0: #f0f8ff;\n",
       "  --sklearn-color-fitted-level-1: #d4ebff;\n",
       "  --sklearn-color-fitted-level-2: #b3dbfd;\n",
       "  --sklearn-color-fitted-level-3: cornflowerblue;\n",
       "\n",
       "  /* Specific color for light theme */\n",
       "  --sklearn-color-text-on-default-background: var(--sg-text-color, var(--theme-code-foreground, var(--jp-content-font-color1, black)));\n",
       "  --sklearn-color-background: var(--sg-background-color, var(--theme-background, var(--jp-layout-color0, white)));\n",
       "  --sklearn-color-border-box: var(--sg-text-color, var(--theme-code-foreground, var(--jp-content-font-color1, black)));\n",
       "  --sklearn-color-icon: #696969;\n",
       "\n",
       "  @media (prefers-color-scheme: dark) {\n",
       "    /* Redefinition of color scheme for dark theme */\n",
       "    --sklearn-color-text-on-default-background: var(--sg-text-color, var(--theme-code-foreground, var(--jp-content-font-color1, white)));\n",
       "    --sklearn-color-background: var(--sg-background-color, var(--theme-background, var(--jp-layout-color0, #111)));\n",
       "    --sklearn-color-border-box: var(--sg-text-color, var(--theme-code-foreground, var(--jp-content-font-color1, white)));\n",
       "    --sklearn-color-icon: #878787;\n",
       "  }\n",
       "}\n",
       "\n",
       "#sk-container-id-1 {\n",
       "  color: var(--sklearn-color-text);\n",
       "}\n",
       "\n",
       "#sk-container-id-1 pre {\n",
       "  padding: 0;\n",
       "}\n",
       "\n",
       "#sk-container-id-1 input.sk-hidden--visually {\n",
       "  border: 0;\n",
       "  clip: rect(1px 1px 1px 1px);\n",
       "  clip: rect(1px, 1px, 1px, 1px);\n",
       "  height: 1px;\n",
       "  margin: -1px;\n",
       "  overflow: hidden;\n",
       "  padding: 0;\n",
       "  position: absolute;\n",
       "  width: 1px;\n",
       "}\n",
       "\n",
       "#sk-container-id-1 div.sk-dashed-wrapped {\n",
       "  border: 1px dashed var(--sklearn-color-line);\n",
       "  margin: 0 0.4em 0.5em 0.4em;\n",
       "  box-sizing: border-box;\n",
       "  padding-bottom: 0.4em;\n",
       "  background-color: var(--sklearn-color-background);\n",
       "}\n",
       "\n",
       "#sk-container-id-1 div.sk-container {\n",
       "  /* jupyter's `normalize.less` sets `[hidden] { display: none; }`\n",
       "     but bootstrap.min.css set `[hidden] { display: none !important; }`\n",
       "     so we also need the `!important` here to be able to override the\n",
       "     default hidden behavior on the sphinx rendered scikit-learn.org.\n",
       "     See: https://github.com/scikit-learn/scikit-learn/issues/21755 */\n",
       "  display: inline-block !important;\n",
       "  position: relative;\n",
       "}\n",
       "\n",
       "#sk-container-id-1 div.sk-text-repr-fallback {\n",
       "  display: none;\n",
       "}\n",
       "\n",
       "div.sk-parallel-item,\n",
       "div.sk-serial,\n",
       "div.sk-item {\n",
       "  /* draw centered vertical line to link estimators */\n",
       "  background-image: linear-gradient(var(--sklearn-color-text-on-default-background), var(--sklearn-color-text-on-default-background));\n",
       "  background-size: 2px 100%;\n",
       "  background-repeat: no-repeat;\n",
       "  background-position: center center;\n",
       "}\n",
       "\n",
       "/* Parallel-specific style estimator block */\n",
       "\n",
       "#sk-container-id-1 div.sk-parallel-item::after {\n",
       "  content: \"\";\n",
       "  width: 100%;\n",
       "  border-bottom: 2px solid var(--sklearn-color-text-on-default-background);\n",
       "  flex-grow: 1;\n",
       "}\n",
       "\n",
       "#sk-container-id-1 div.sk-parallel {\n",
       "  display: flex;\n",
       "  align-items: stretch;\n",
       "  justify-content: center;\n",
       "  background-color: var(--sklearn-color-background);\n",
       "  position: relative;\n",
       "}\n",
       "\n",
       "#sk-container-id-1 div.sk-parallel-item {\n",
       "  display: flex;\n",
       "  flex-direction: column;\n",
       "}\n",
       "\n",
       "#sk-container-id-1 div.sk-parallel-item:first-child::after {\n",
       "  align-self: flex-end;\n",
       "  width: 50%;\n",
       "}\n",
       "\n",
       "#sk-container-id-1 div.sk-parallel-item:last-child::after {\n",
       "  align-self: flex-start;\n",
       "  width: 50%;\n",
       "}\n",
       "\n",
       "#sk-container-id-1 div.sk-parallel-item:only-child::after {\n",
       "  width: 0;\n",
       "}\n",
       "\n",
       "/* Serial-specific style estimator block */\n",
       "\n",
       "#sk-container-id-1 div.sk-serial {\n",
       "  display: flex;\n",
       "  flex-direction: column;\n",
       "  align-items: center;\n",
       "  background-color: var(--sklearn-color-background);\n",
       "  padding-right: 1em;\n",
       "  padding-left: 1em;\n",
       "}\n",
       "\n",
       "\n",
       "/* Toggleable style: style used for estimator/Pipeline/ColumnTransformer box that is\n",
       "clickable and can be expanded/collapsed.\n",
       "- Pipeline and ColumnTransformer use this feature and define the default style\n",
       "- Estimators will overwrite some part of the style using the `sk-estimator` class\n",
       "*/\n",
       "\n",
       "/* Pipeline and ColumnTransformer style (default) */\n",
       "\n",
       "#sk-container-id-1 div.sk-toggleable {\n",
       "  /* Default theme specific background. It is overwritten whether we have a\n",
       "  specific estimator or a Pipeline/ColumnTransformer */\n",
       "  background-color: var(--sklearn-color-background);\n",
       "}\n",
       "\n",
       "/* Toggleable label */\n",
       "#sk-container-id-1 label.sk-toggleable__label {\n",
       "  cursor: pointer;\n",
       "  display: block;\n",
       "  width: 100%;\n",
       "  margin-bottom: 0;\n",
       "  padding: 0.5em;\n",
       "  box-sizing: border-box;\n",
       "  text-align: center;\n",
       "}\n",
       "\n",
       "#sk-container-id-1 label.sk-toggleable__label-arrow:before {\n",
       "  /* Arrow on the left of the label */\n",
       "  content: \"▸\";\n",
       "  float: left;\n",
       "  margin-right: 0.25em;\n",
       "  color: var(--sklearn-color-icon);\n",
       "}\n",
       "\n",
       "#sk-container-id-1 label.sk-toggleable__label-arrow:hover:before {\n",
       "  color: var(--sklearn-color-text);\n",
       "}\n",
       "\n",
       "/* Toggleable content - dropdown */\n",
       "\n",
       "#sk-container-id-1 div.sk-toggleable__content {\n",
       "  max-height: 0;\n",
       "  max-width: 0;\n",
       "  overflow: hidden;\n",
       "  text-align: left;\n",
       "  /* unfitted */\n",
       "  background-color: var(--sklearn-color-unfitted-level-0);\n",
       "}\n",
       "\n",
       "#sk-container-id-1 div.sk-toggleable__content.fitted {\n",
       "  /* fitted */\n",
       "  background-color: var(--sklearn-color-fitted-level-0);\n",
       "}\n",
       "\n",
       "#sk-container-id-1 div.sk-toggleable__content pre {\n",
       "  margin: 0.2em;\n",
       "  border-radius: 0.25em;\n",
       "  color: var(--sklearn-color-text);\n",
       "  /* unfitted */\n",
       "  background-color: var(--sklearn-color-unfitted-level-0);\n",
       "}\n",
       "\n",
       "#sk-container-id-1 div.sk-toggleable__content.fitted pre {\n",
       "  /* unfitted */\n",
       "  background-color: var(--sklearn-color-fitted-level-0);\n",
       "}\n",
       "\n",
       "#sk-container-id-1 input.sk-toggleable__control:checked~div.sk-toggleable__content {\n",
       "  /* Expand drop-down */\n",
       "  max-height: 200px;\n",
       "  max-width: 100%;\n",
       "  overflow: auto;\n",
       "}\n",
       "\n",
       "#sk-container-id-1 input.sk-toggleable__control:checked~label.sk-toggleable__label-arrow:before {\n",
       "  content: \"▾\";\n",
       "}\n",
       "\n",
       "/* Pipeline/ColumnTransformer-specific style */\n",
       "\n",
       "#sk-container-id-1 div.sk-label input.sk-toggleable__control:checked~label.sk-toggleable__label {\n",
       "  color: var(--sklearn-color-text);\n",
       "  background-color: var(--sklearn-color-unfitted-level-2);\n",
       "}\n",
       "\n",
       "#sk-container-id-1 div.sk-label.fitted input.sk-toggleable__control:checked~label.sk-toggleable__label {\n",
       "  background-color: var(--sklearn-color-fitted-level-2);\n",
       "}\n",
       "\n",
       "/* Estimator-specific style */\n",
       "\n",
       "/* Colorize estimator box */\n",
       "#sk-container-id-1 div.sk-estimator input.sk-toggleable__control:checked~label.sk-toggleable__label {\n",
       "  /* unfitted */\n",
       "  background-color: var(--sklearn-color-unfitted-level-2);\n",
       "}\n",
       "\n",
       "#sk-container-id-1 div.sk-estimator.fitted input.sk-toggleable__control:checked~label.sk-toggleable__label {\n",
       "  /* fitted */\n",
       "  background-color: var(--sklearn-color-fitted-level-2);\n",
       "}\n",
       "\n",
       "#sk-container-id-1 div.sk-label label.sk-toggleable__label,\n",
       "#sk-container-id-1 div.sk-label label {\n",
       "  /* The background is the default theme color */\n",
       "  color: var(--sklearn-color-text-on-default-background);\n",
       "}\n",
       "\n",
       "/* On hover, darken the color of the background */\n",
       "#sk-container-id-1 div.sk-label:hover label.sk-toggleable__label {\n",
       "  color: var(--sklearn-color-text);\n",
       "  background-color: var(--sklearn-color-unfitted-level-2);\n",
       "}\n",
       "\n",
       "/* Label box, darken color on hover, fitted */\n",
       "#sk-container-id-1 div.sk-label.fitted:hover label.sk-toggleable__label.fitted {\n",
       "  color: var(--sklearn-color-text);\n",
       "  background-color: var(--sklearn-color-fitted-level-2);\n",
       "}\n",
       "\n",
       "/* Estimator label */\n",
       "\n",
       "#sk-container-id-1 div.sk-label label {\n",
       "  font-family: monospace;\n",
       "  font-weight: bold;\n",
       "  display: inline-block;\n",
       "  line-height: 1.2em;\n",
       "}\n",
       "\n",
       "#sk-container-id-1 div.sk-label-container {\n",
       "  text-align: center;\n",
       "}\n",
       "\n",
       "/* Estimator-specific */\n",
       "#sk-container-id-1 div.sk-estimator {\n",
       "  font-family: monospace;\n",
       "  border: 1px dotted var(--sklearn-color-border-box);\n",
       "  border-radius: 0.25em;\n",
       "  box-sizing: border-box;\n",
       "  margin-bottom: 0.5em;\n",
       "  /* unfitted */\n",
       "  background-color: var(--sklearn-color-unfitted-level-0);\n",
       "}\n",
       "\n",
       "#sk-container-id-1 div.sk-estimator.fitted {\n",
       "  /* fitted */\n",
       "  background-color: var(--sklearn-color-fitted-level-0);\n",
       "}\n",
       "\n",
       "/* on hover */\n",
       "#sk-container-id-1 div.sk-estimator:hover {\n",
       "  /* unfitted */\n",
       "  background-color: var(--sklearn-color-unfitted-level-2);\n",
       "}\n",
       "\n",
       "#sk-container-id-1 div.sk-estimator.fitted:hover {\n",
       "  /* fitted */\n",
       "  background-color: var(--sklearn-color-fitted-level-2);\n",
       "}\n",
       "\n",
       "/* Specification for estimator info (e.g. \"i\" and \"?\") */\n",
       "\n",
       "/* Common style for \"i\" and \"?\" */\n",
       "\n",
       ".sk-estimator-doc-link,\n",
       "a:link.sk-estimator-doc-link,\n",
       "a:visited.sk-estimator-doc-link {\n",
       "  float: right;\n",
       "  font-size: smaller;\n",
       "  line-height: 1em;\n",
       "  font-family: monospace;\n",
       "  background-color: var(--sklearn-color-background);\n",
       "  border-radius: 1em;\n",
       "  height: 1em;\n",
       "  width: 1em;\n",
       "  text-decoration: none !important;\n",
       "  margin-left: 1ex;\n",
       "  /* unfitted */\n",
       "  border: var(--sklearn-color-unfitted-level-1) 1pt solid;\n",
       "  color: var(--sklearn-color-unfitted-level-1);\n",
       "}\n",
       "\n",
       ".sk-estimator-doc-link.fitted,\n",
       "a:link.sk-estimator-doc-link.fitted,\n",
       "a:visited.sk-estimator-doc-link.fitted {\n",
       "  /* fitted */\n",
       "  border: var(--sklearn-color-fitted-level-1) 1pt solid;\n",
       "  color: var(--sklearn-color-fitted-level-1);\n",
       "}\n",
       "\n",
       "/* On hover */\n",
       "div.sk-estimator:hover .sk-estimator-doc-link:hover,\n",
       ".sk-estimator-doc-link:hover,\n",
       "div.sk-label-container:hover .sk-estimator-doc-link:hover,\n",
       ".sk-estimator-doc-link:hover {\n",
       "  /* unfitted */\n",
       "  background-color: var(--sklearn-color-unfitted-level-3);\n",
       "  color: var(--sklearn-color-background);\n",
       "  text-decoration: none;\n",
       "}\n",
       "\n",
       "div.sk-estimator.fitted:hover .sk-estimator-doc-link.fitted:hover,\n",
       ".sk-estimator-doc-link.fitted:hover,\n",
       "div.sk-label-container:hover .sk-estimator-doc-link.fitted:hover,\n",
       ".sk-estimator-doc-link.fitted:hover {\n",
       "  /* fitted */\n",
       "  background-color: var(--sklearn-color-fitted-level-3);\n",
       "  color: var(--sklearn-color-background);\n",
       "  text-decoration: none;\n",
       "}\n",
       "\n",
       "/* Span, style for the box shown on hovering the info icon */\n",
       ".sk-estimator-doc-link span {\n",
       "  display: none;\n",
       "  z-index: 9999;\n",
       "  position: relative;\n",
       "  font-weight: normal;\n",
       "  right: .2ex;\n",
       "  padding: .5ex;\n",
       "  margin: .5ex;\n",
       "  width: min-content;\n",
       "  min-width: 20ex;\n",
       "  max-width: 50ex;\n",
       "  color: var(--sklearn-color-text);\n",
       "  box-shadow: 2pt 2pt 4pt #999;\n",
       "  /* unfitted */\n",
       "  background: var(--sklearn-color-unfitted-level-0);\n",
       "  border: .5pt solid var(--sklearn-color-unfitted-level-3);\n",
       "}\n",
       "\n",
       ".sk-estimator-doc-link.fitted span {\n",
       "  /* fitted */\n",
       "  background: var(--sklearn-color-fitted-level-0);\n",
       "  border: var(--sklearn-color-fitted-level-3);\n",
       "}\n",
       "\n",
       ".sk-estimator-doc-link:hover span {\n",
       "  display: block;\n",
       "}\n",
       "\n",
       "/* \"?\"-specific style due to the `<a>` HTML tag */\n",
       "\n",
       "#sk-container-id-1 a.estimator_doc_link {\n",
       "  float: right;\n",
       "  font-size: 1rem;\n",
       "  line-height: 1em;\n",
       "  font-family: monospace;\n",
       "  background-color: var(--sklearn-color-background);\n",
       "  border-radius: 1rem;\n",
       "  height: 1rem;\n",
       "  width: 1rem;\n",
       "  text-decoration: none;\n",
       "  /* unfitted */\n",
       "  color: var(--sklearn-color-unfitted-level-1);\n",
       "  border: var(--sklearn-color-unfitted-level-1) 1pt solid;\n",
       "}\n",
       "\n",
       "#sk-container-id-1 a.estimator_doc_link.fitted {\n",
       "  /* fitted */\n",
       "  border: var(--sklearn-color-fitted-level-1) 1pt solid;\n",
       "  color: var(--sklearn-color-fitted-level-1);\n",
       "}\n",
       "\n",
       "/* On hover */\n",
       "#sk-container-id-1 a.estimator_doc_link:hover {\n",
       "  /* unfitted */\n",
       "  background-color: var(--sklearn-color-unfitted-level-3);\n",
       "  color: var(--sklearn-color-background);\n",
       "  text-decoration: none;\n",
       "}\n",
       "\n",
       "#sk-container-id-1 a.estimator_doc_link.fitted:hover {\n",
       "  /* fitted */\n",
       "  background-color: var(--sklearn-color-fitted-level-3);\n",
       "}\n",
       "</style><div id=\"sk-container-id-1\" class=\"sk-top-container\"><div class=\"sk-text-repr-fallback\"><pre>XGBClassifier(base_score=None, booster=None, callbacks=None,\n",
       "              colsample_bylevel=None, colsample_bynode=None,\n",
       "              colsample_bytree=None, device=None, early_stopping_rounds=25,\n",
       "              enable_categorical=False, eval_metric=None, feature_types=None,\n",
       "              gamma=None, grow_policy=None, importance_type=None,\n",
       "              interaction_constraints=None, learning_rate=0.01, max_bin=None,\n",
       "              max_cat_threshold=None, max_cat_to_onehot=None,\n",
       "              max_delta_step=None, max_depth=10, max_leaves=None,\n",
       "              min_child_weight=37, missing=nan, monotone_constraints=None,\n",
       "              multi_strategy=None, n_estimators=100000, n_jobs=None,\n",
       "              num_parallel_tree=None, objective=&#x27;multi:softprob&#x27;, ...)</pre><b>In a Jupyter environment, please rerun this cell to show the HTML representation or trust the notebook. <br />On GitHub, the HTML representation is unable to render, please try loading this page with nbviewer.org.</b></div><div class=\"sk-container\" hidden><div class=\"sk-item\"><div class=\"sk-estimator fitted sk-toggleable\"><input class=\"sk-toggleable__control sk-hidden--visually\" id=\"sk-estimator-id-1\" type=\"checkbox\" checked><label for=\"sk-estimator-id-1\" class=\"sk-toggleable__label fitted sk-toggleable__label-arrow fitted\">&nbsp;XGBClassifier<span class=\"sk-estimator-doc-link fitted\">i<span>Fitted</span></span></label><div class=\"sk-toggleable__content fitted\"><pre>XGBClassifier(base_score=None, booster=None, callbacks=None,\n",
       "              colsample_bylevel=None, colsample_bynode=None,\n",
       "              colsample_bytree=None, device=None, early_stopping_rounds=25,\n",
       "              enable_categorical=False, eval_metric=None, feature_types=None,\n",
       "              gamma=None, grow_policy=None, importance_type=None,\n",
       "              interaction_constraints=None, learning_rate=0.01, max_bin=None,\n",
       "              max_cat_threshold=None, max_cat_to_onehot=None,\n",
       "              max_delta_step=None, max_depth=10, max_leaves=None,\n",
       "              min_child_weight=37, missing=nan, monotone_constraints=None,\n",
       "              multi_strategy=None, n_estimators=100000, n_jobs=None,\n",
       "              num_parallel_tree=None, objective=&#x27;multi:softprob&#x27;, ...)</pre></div> </div></div></div></div>"
      ],
      "text/plain": [
       "XGBClassifier(base_score=None, booster=None, callbacks=None,\n",
       "              colsample_bylevel=None, colsample_bynode=None,\n",
       "              colsample_bytree=None, device=None, early_stopping_rounds=25,\n",
       "              enable_categorical=False, eval_metric=None, feature_types=None,\n",
       "              gamma=None, grow_policy=None, importance_type=None,\n",
       "              interaction_constraints=None, learning_rate=0.01, max_bin=None,\n",
       "              max_cat_threshold=None, max_cat_to_onehot=None,\n",
       "              max_delta_step=None, max_depth=10, max_leaves=None,\n",
       "              min_child_weight=37, missing=nan, monotone_constraints=None,\n",
       "              multi_strategy=None, n_estimators=100000, n_jobs=None,\n",
       "              num_parallel_tree=None, objective='multi:softprob', ...)"
      ]
     },
     "execution_count": 40,
     "metadata": {},
     "output_type": "execute_result"
    }
   ],
   "source": [
    "new_params = {'tree_method': 'approx',\n",
    " 'max_depth': 10,\n",
    " 'min_child_weight': 37,\n",
    " 'subsample': 0.8949926313039528,\n",
    " 'reg_lambda': 0.04499990751947653,\n",
    " 'learning_rate': 0.01,\n",
    " 'n_estimators': 100000,\n",
    " 'early_stopping_rounds': 25}\n",
    "\n",
    "xgb_early = XGBClassifier(**new_params)\n",
    "\n",
    "xgb_early.fit(\n",
    "    X_train_proc, y_train,\n",
    "    eval_set=[(X_val_proc, y_val)],\n",
    "    \n",
    "    verbose=False\n",
    ")"
   ]
  },
  {
   "cell_type": "markdown",
   "metadata": {},
   "source": [
    "We found that the best amount n_estimators for the model is equal to 2183, so let's update our parameter dictionary and train our final model with cross validation"
   ]
  },
  {
   "cell_type": "code",
   "execution_count": 41,
   "metadata": {},
   "outputs": [
    {
     "data": {
      "text/plain": [
       "2183"
      ]
     },
     "execution_count": 41,
     "metadata": {},
     "output_type": "execute_result"
    }
   ],
   "source": [
    "xgb_early.best_iteration"
   ]
  },
  {
   "cell_type": "markdown",
   "metadata": {},
   "source": [
    "It seems like we managed to make our model better by around ~3% after tuning"
   ]
  },
  {
   "cell_type": "code",
   "execution_count": 42,
   "metadata": {},
   "outputs": [
    {
     "name": "stdout",
     "output_type": "stream",
     "text": [
      "Final Accuracy: 80.34%\n"
     ]
    }
   ],
   "source": [
    "final_params = {'tree_method': 'approx',\n",
    " 'max_depth': 8,\n",
    " 'min_child_weight': 25,\n",
    " 'subsample': 0.6300046316517319,\n",
    " 'reg_lambda': 0.12225427111713684,\n",
    " 'learning_rate': 0.01,\n",
    " 'n_estimators': 2183}\n",
    "\n",
    "xgb_final = XGBClassifier(**final_params)\n",
    "\n",
    "scores = cross_val_score(xgb_final, X_proc, y, cv=10)\n",
    "\n",
    "print(f\"Final Accuracy: {scores.mean()*100:.2f}%\")"
   ]
  },
  {
   "cell_type": "markdown",
   "metadata": {},
   "source": [
    "# 5. Results And Conclusion"
   ]
  },
  {
   "cell_type": "markdown",
   "metadata": {},
   "source": [
    "The final score for our model is 80.34%. Not bad considering the small dataset. Even though this model has little practical use, it's still good practice. Now if you knew some things about a competitor like the name of their teacher or the name of their school or their school year you could guess their placement with 80% accuracy, although there are still many caveats."
   ]
  }
 ],
 "metadata": {
  "kernelspec": {
   "display_name": ".venv",
   "language": "python",
   "name": "python3"
  },
  "language_info": {
   "codemirror_mode": {
    "name": "ipython",
    "version": 3
   },
   "file_extension": ".py",
   "mimetype": "text/x-python",
   "name": "python",
   "nbconvert_exporter": "python",
   "pygments_lexer": "ipython3",
   "version": "3.12.6"
  }
 },
 "nbformat": 4,
 "nbformat_minor": 2
}
